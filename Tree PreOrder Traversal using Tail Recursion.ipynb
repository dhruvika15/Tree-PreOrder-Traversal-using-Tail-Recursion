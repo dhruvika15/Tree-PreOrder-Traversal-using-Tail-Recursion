{
 "cells": [
  {
   "cell_type": "code",
   "execution_count": 1,
   "id": "2f433db1",
   "metadata": {},
   "outputs": [],
   "source": [
    "class TreeNode:\n",
    "    def __init__(self, d):\n",
    "        self.data = d\n",
    "        self.leftchild = None\n",
    "        self.rightchild = None"
   ]
  },
  {
   "cell_type": "code",
   "execution_count": 2,
   "id": "07bfb11a",
   "metadata": {},
   "outputs": [],
   "source": [
    "root = TreeNode(\"Menu\")\n",
    "drink = TreeNode(\"Drink\")\n",
    "food = TreeNode(\"Food\")\n",
    "tea = TreeNode(\"Tea\")\n",
    "coffee = TreeNode(\"Coffee\")\n",
    "panipuri = TreeNode(\"Panipuri\")\n",
    "dosa = TreeNode(\"Dosa\")"
   ]
  },
  {
   "cell_type": "code",
   "execution_count": 3,
   "id": "948a41b9",
   "metadata": {},
   "outputs": [],
   "source": [
    "root.leftchild = drink\n",
    "root.rightchild = food"
   ]
  },
  {
   "cell_type": "code",
   "execution_count": 4,
   "id": "04b19b87",
   "metadata": {},
   "outputs": [],
   "source": [
    "drink.leftchild = tea\n",
    "drink.rightchild = coffee"
   ]
  },
  {
   "cell_type": "code",
   "execution_count": 5,
   "id": "2155e0ac",
   "metadata": {},
   "outputs": [],
   "source": [
    "\n",
    "food.rightchild = dosa"
   ]
  },
  {
   "cell_type": "code",
   "execution_count": 6,
   "id": "f3af679a",
   "metadata": {},
   "outputs": [
    {
     "name": "stdout",
     "output_type": "stream",
     "text": [
      "{'data': 'Menu', 'leftchild': <__main__.TreeNode object at 0x000001B6CFE7A820>, 'rightchild': <__main__.TreeNode object at 0x000001B6CFE7AC40>}\n",
      "{'data': 'Drink', 'leftchild': <__main__.TreeNode object at 0x000001B6CFE7AE80>, 'rightchild': <__main__.TreeNode object at 0x000001B6CFE7AF10>}\n",
      "{'data': 'Food', 'leftchild': <__main__.TreeNode object at 0x000001B6CFE7ABE0>, 'rightchild': None}\n",
      "{'data': 'Tea', 'leftchild': None, 'rightchild': None}\n",
      "{'data': 'Coffee', 'leftchild': None, 'rightchild': None}\n"
     ]
    }
   ],
   "source": [
    "print(root.__dict__)\n",
    "print(drink.__dict__)\n",
    "print(food.__dict__)\n",
    "print(tea.__dict__)\n",
    "print(coffee.__dict__)"
   ]
  },
  {
   "cell_type": "code",
   "execution_count": 7,
   "id": "a23289ea",
   "metadata": {},
   "outputs": [],
   "source": [
    "stack = []"
   ]
  },
  {
   "cell_type": "code",
   "execution_count": 8,
   "id": "3791ac2f",
   "metadata": {},
   "outputs": [],
   "source": [
    "def pre(node):\n",
    "    \n",
    "    print(node.data)\n",
    "    if node.rightchild != None:\n",
    "        stack.append(node.rightchild)\n",
    "    if node.leftchild != None:\n",
    "        stack.append(node.leftchild)\n",
    "    if stack:\n",
    "        pre(stack.pop())\n",
    "    "
   ]
  },
  {
   "cell_type": "code",
   "execution_count": 9,
   "id": "bd440103",
   "metadata": {},
   "outputs": [
    {
     "name": "stdout",
     "output_type": "stream",
     "text": [
      "Menu\n",
      "Drink\n",
      "Tea\n",
      "Coffee\n",
      "Food\n",
      "Panipuri\n"
     ]
    }
   ],
   "source": [
    "pre(root)"
   ]
  },
  {
   "cell_type": "code",
   "execution_count": null,
   "id": "780f7283",
   "metadata": {},
   "outputs": [],
   "source": []
  },
  {
   "cell_type": "code",
   "execution_count": null,
   "id": "c2559685",
   "metadata": {},
   "outputs": [],
   "source": []
  }
 ],
 "metadata": {
  "kernelspec": {
   "display_name": "Python 3",
   "language": "python",
   "name": "python3"
  },
  "language_info": {
   "codemirror_mode": {
    "name": "ipython",
    "version": 3
   },
   "file_extension": ".py",
   "mimetype": "text/x-python",
   "name": "python",
   "nbconvert_exporter": "python",
   "pygments_lexer": "ipython3",
   "version": "3.8.8"
  }
 },
 "nbformat": 4,
 "nbformat_minor": 5
}
